{
  "nbformat": 4,
  "nbformat_minor": 0,
  "metadata": {
    "colab": {
      "provenance": [],
      "authorship_tag": "ABX9TyMYALckxEPvZXijlCqf+vpG",
      "include_colab_link": true
    },
    "kernelspec": {
      "name": "python3",
      "display_name": "Python 3"
    },
    "language_info": {
      "name": "python"
    }
  },
  "cells": [
    {
      "cell_type": "markdown",
      "metadata": {
        "id": "view-in-github",
        "colab_type": "text"
      },
      "source": [
        "<a href=\"https://colab.research.google.com/github/SurekhaBerlin/Automatically_generate_pdf_and_send_email/blob/master/code.ipynb\" target=\"_parent\"><img src=\"https://colab.research.google.com/assets/colab-badge.svg\" alt=\"Open In Colab\"/></a>"
      ]
    },
    {
      "cell_type": "code",
      "execution_count": 6,
      "metadata": {
        "colab": {
          "base_uri": "https://localhost:8080/"
        },
        "id": "wXmIYn7qItkh",
        "outputId": "689e5a05-6eb8-4836-97fe-148abe80a705"
      },
      "outputs": [
        {
          "output_type": "stream",
          "name": "stdout",
          "text": [
            "█   \n",
            "█▀▀ \n",
            "█▀▀▀\n"
          ]
        }
      ],
      "source": [
        "from bs4 import BeautifulSoup as b_;import requests as r_\n",
        "def main(url):\n",
        "    if not url:url=input(\"url:\")\n",
        "    rs=r_.get(url);del url\n",
        "    if rs.status_code==200:soup = b_(rs.text,'html.parser');co=soup.get_text(separator='\\n');co=co.strip();del rs\n",
        "    start,nco=False,\"\"\n",
        "    for l in co.splitlines():\n",
        "        if start:nco+=l+\"\\n\"\n",
        "        if l.strip()==\"y-coordinate\":start=True\n",
        "    co=nco;del nco,start;ls=co.split(\"\\n\");result=[]\n",
        "    for i in range(0,len(ls),3):result.append(ls[i:i+3])\n",
        "    co=result;del result;x=0;y=0\n",
        "    for n in co:\n",
        "        if len(n)!=3:continue\n",
        "        if int(n[0])>x:x=int(n[0])\n",
        "        if int(n[2])>y:y=int(n[2])\n",
        "    x,y=x+1,y+1;array=[[\" \"for _ in range(x)]for _ in range(y)];del x,y\n",
        "    for l in co:\n",
        "        if len(l)!=3:continue\n",
        "        xt=int(l[0]);char=l[1];yt=int(l[2]);array[yt][xt]=char\n",
        "    del co,xt,yt\n",
        "    for row in array:\n",
        "        print(\"\".join(row))\n",
        "    del array\n",
        "url = 'https://docs.google.com/document/d/e/2PACX-1vRMx5YQlZNa3ra8dYYxmv-QIQ3YJe8tbI3kqcuC7lQiZm-CSEznKfN_HYNSpoXcZIV3Y_O3YoUB1ecq/pub';main(url)\n"
      ]
    },
    {
      "cell_type": "code",
      "source": [
        "import pandas as pd\n",
        "from bs4 import BeautifulSoup\n",
        "\n",
        "tableData = pd.read_html(\"https://docs.google.com/document/d/e/2PACX-1vRMx5YQlZNa3ra8dYYxmv-QIQ3YJe8tbI3kqcuC7lQiZm-CSEznKfN_HYNSpoXcZIV3Y_O3YoUB1ecq/pub\", header=0, flavor='bs4')\n",
        "\n",
        "tdSorted = tableData[0].sort_values(by=[\"y-coordinate\",\"x-coordinate\"], ignore_index=True)\n",
        "\n",
        "xcoord = tdSorted['x-coordinate']\n",
        "ycoord = tdSorted['y-coordinate']\n",
        "char = tdSorted['Character']\n",
        "\n",
        "for i in range(1, len(xcoord)):\n",
        "    if ((xcoord[i] == len(xcoord)) & (ycoord[i] == len(ycoord))):\n",
        "        print(\" \", end='')\n",
        "    if xcoord[i] - xcoord[i - 1] != 1:\n",
        "        print(\" \" * int((xcoord[i]) - (xcoord[i - 1]) - 1), end='')\n",
        "    if (ycoord[i] != (ycoord[i - 1])):\n",
        "        print('\\r')\n",
        "    print (char[i], end='')\n",
        "print('\\n')"
      ],
      "metadata": {
        "colab": {
          "base_uri": "https://localhost:8080/"
        },
        "id": "G6nWQE2OJVxG",
        "outputId": "d7c9da5c-37d1-4120-98f4-a341518beba3"
      },
      "execution_count": 2,
      "outputs": [
        {
          "output_type": "stream",
          "name": "stdout",
          "text": [
            "\r\n",
            "█▀▀\r\n",
            "█▀▀▀\n",
            "\n"
          ]
        }
      ]
    },
    {
      "cell_type": "code",
      "source": [
        "import pandas as pd\n",
        "\n",
        "# URL of the Google Document containing the Unicode characters\n",
        "url = \"https://docs.google.com/document/d/e/2PACX-1vRMx5YQlZNa3ra8dYYxmv-QIQ3YJe8tbI3kqcuC7lQiZm-CSEznKfN_HYNSpoXcZIV3Y_O3YoUB1ecq/pub\"\n",
        "\n",
        "# Read the table data from the Google Document\n",
        "try:\n",
        "    tableData = pd.read_html(url, header=0)\n",
        "\n",
        "    # Check if any tables were found\n",
        "    if not tableData:\n",
        "        raise ValueError(\"No tables found in the document.\")\n",
        "\n",
        "    # Assuming the first table contains the relevant data\n",
        "    df = tableData[0]\n",
        "\n",
        "    # Print the DataFrame to see its structure\n",
        "    print(df)\n",
        "\n",
        "    # Assuming columns named 'Character' and 'Unicode'\n",
        "    for index, row in df.iterrows():\n",
        "        unicode_char = row['Character']\n",
        "        unicode_value = row['Unicode']\n",
        "        print(f\"Unicode: {unicode_value}, Character: {unicode_char}\")\n",
        "\n",
        "except Exception as e:\n",
        "    print(f\"An error occurred: {e}\")\n"
      ],
      "metadata": {
        "colab": {
          "base_uri": "https://localhost:8080/"
        },
        "id": "ygJ8pW2i9wBd",
        "outputId": "8c67ea97-4076-424d-8c2f-f8d806f0d43a"
      },
      "execution_count": 1,
      "outputs": [
        {
          "output_type": "stream",
          "name": "stdout",
          "text": [
            "   x-coordinate Character  y-coordinate\n",
            "0             0       â             0\n",
            "1             0       â             1\n",
            "2             0       â             2\n",
            "3             1       â             1\n",
            "4             1       â             2\n",
            "5             2       â             1\n",
            "6             2       â             2\n",
            "7             3       â             2\n",
            "An error occurred: 'Unicode'\n"
          ]
        }
      ]
    },
    {
      "cell_type": "code",
      "source": [
        "8"
      ],
      "metadata": {
        "id": "R_0ksMKNDrc1"
      },
      "execution_count": 1,
      "outputs": []
    }
  ]
}